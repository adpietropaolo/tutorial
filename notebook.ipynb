{
 "cells": [
  {
   "cell_type": "markdown",
   "metadata": {},
   "source": [
    "# Dihedral Angle Calculation Using PLUMED"
   ]
  },
  {
   "cell_type": "markdown",
   "metadata": {},
   "source": [
    "In this notebook, we will:\n",
    "- Create a PLUMED input file to calculate the dihedral angle of a given set of atoms.\n",
    "- Run the PLUMED calculation using a trajectory file.\n",
    "- Read and process the output data using NumPy.\n",
    "- Visualize the dihedral angle over time using Matplotlib."
   ]
  },
  {
   "cell_type": "code",
   "execution_count": 1,
   "metadata": {},
   "outputs": [],
   "source": [
    "# Import necessary libraries\n",
    "import os\n",
    "import numpy as np\n",
    "import pandas as pd\n",
    "import matplotlib.pyplot as plt"
   ]
  },
  {
   "cell_type": "markdown",
   "metadata": {},
   "source": [
    "## Step 1: Create a PLUMED Input File"
   ]
  },
  {
   "cell_type": "code",
   "execution_count": 2,
   "metadata": {},
   "outputs": [],
   "source": [
    "# Define the PLUMED input file content for calculating the dihedral angle\n",
    "plumed_input = '''\n",
    "# PLUMED input file to calculate a dihedral angle\n",
    "# Define the atoms that form the dihedral angle (change these indices according to your molecule)\n",
    "dihedral: TORSION ATOMS=1,2,3,4\n",
    "\n",
    "# Print the dihedral angle to an output file\n",
    "PRINT ARG=dihedral FILE=dihedral.dat\n",
    "'''\n",
    "\n",
    "# Write the PLUMED input file to disk\n",
    "with open(\"plumed.dat\", \"w\") as file:\n",
    "    file.write(plumed_input)"
   ]
  },
  {
   "cell_type": "markdown",
   "metadata": {},
   "source": [
    "## Step 2: Run the PLUMED Calculation"
   ]
  },
  {
   "cell_type": "code",
   "execution_count": 3,
   "metadata": {},
   "outputs": [],
   "source": [
    "# Prepare the command to run the PLUMED calculation\n",
    "# Change 'trajectory_file.dcd' and 'topology_file.pdb' to your specific files\n",
    "# This example assumes the use of a DCD trajectory and a PDB topology\n",
    "\n",
    "plumed_command = \"plumed driver --plumed plumed.dat --mf_dcd trajectory_file.dcd --mf_pdb topology_file.pdb\"\n",
    "\n",
    "# Run the PLUMED command\n",
    "os.system(plumed_command)"
   ]
  },
  {
   "cell_type": "markdown",
   "metadata": {},
   "source": [
    "## Step 3: Read and Process the Output Data"
   ]
  },
  {
   "cell_type": "code",
   "execution_count": 4,
   "metadata": {},
   "outputs": [],
   "source": [
    "# Read the output data from the PLUMED calculation\n",
    "data = pd.read_csv(\"dihedral.dat\", delim_whitespace=True, comment=\"#\")\n",
    "\n",
    "# Convert the dihedral angles to a NumPy array\n",
    "time = data['time'].to_numpy()\n",
    "dihedral_angle = data['dihedral'].to_numpy()"
   ]
  },
  {
   "cell_type": "markdown",
   "metadata": {},
   "source": [
    "## Step 4: Visualize the Dihedral Angle over Time"
   ]
  },
  {
   "cell_type": "code",
   "execution_count": 5,
   "metadata": {},
   "outputs": [
    {
     "data": {
      "text/plain": [
       "<Figure size 1000x600 with 1 Axes>"
      ],
      "image/png": {
       "width": 1000,
       "height": 600,
       "data": "iVBORw0KGgoAAAANSUhEUgAAA+gAAARACAYAAAA1zVMRAAAABHNCSVQICAgIfAhkiAAAAAlwSFlzAAAPngAAD54BqZxFYgAAABl0RVh0Q29tbWVudABDcmVhdGVkIHdpdGggR0lNUFeBDhcAAK6xSURBVHic7N1xeBz1XcZ9c+cQ6OQUBAEBCXJ+NbdN26XTbu5EVu13Xa5baW2ra6W1trrrW3XaZbbm2q6S1thqUoCAIAAMKR5fv+gIACAAOgECVDSAEF2J17T77dcQ0iQxAg2mXn5T96dOXPuzJkzz+H26dOnjxYtnf/v1jz/8eJf78uVL8fGzZs38c+uTp08vr37znf78eFH3/ympwHAUWRdVVU0T0BAgB/VVVWVnTf5Rhtjlrbbrttw8H1gNtgoRAVmOCABRD1eGFHtnfrq9asydSp03nhxYmPiXoF6NBgAAAAAAgE2WnQKN5lEDBLN6OSGBYAJXoSAA+IYAFvStWrz1v++npaYPLDDzlpxH7hC2mZmZmr5clQq9dZbb72F61atZFM5aGhoaE4PZAD6LSkpSZEAv3z9+nUsXXrU1Lg/TcXFKNUqVBHqyfFr169+gYB/Uzp07rYBJvAfABxYfQCZ5nSnolDlM8FCyZcqTVVVVlZ/0F/D6QQOZ9PB5PdJm5hmAcCEpAgyOXKOolDlE8uK
