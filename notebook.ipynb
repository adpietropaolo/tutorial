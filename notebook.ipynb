# Dihedral Angle Calculation using PLUMED in a Jupyter Notebook

# Import necessary libraries
import os

# Define the PLUMED input file for calculating the dihedral angle
plumed_input = "plumed.dat"
# PLUMED input file to calculate a dihedral angle
# Define the atoms that form the dihedral angle (change these indices according to your molecule)
dihedral: TORSION ATOMS=1,2,3,4

# Print the dihedral angle to an output file
PRINT ARG=dihedral FILE=dihedral.dat
"""

# Write the PLUMED input file to disk
with open("plumed.dat", "w") as file:
    file.write(plumed_input)

# Now, prepare the command to run the PLUMED calculation
# Change 'trajectory_file.xyz' and 'topology_file.pdb' to your specific files
# This example assumes the use of an XYZ trajectory and a PDB topology

# PLUMED command to calculate the dihedral in each electronic states
plumed_command = "plumed driver --plumed plumed.dat --mf_dcd trajectory_file.dcd --mf_pdb topology_file.pdb"

# Run the PLUMED command
os.system(plumed_command)

# After running PLUMED, let's read and plot the results
import pandas as pd
import matplotlib.pyplot as plt

# Read the output data from the PLUMED calculation
data = pd.read_csv("dihedral.dat", delim_whitespace=True, comment="#")

# Plot the dihedral angle over time
plt.figure(figsize=(10, 6))
plt.plot(data['time'], data['dihedral'])
plt.xlabel('Time')
plt.ylabel('Dihedral Angle (degrees)')
plt.title('Dihedral Angle vs. Time')
plt.grid(True)
plt.show()
