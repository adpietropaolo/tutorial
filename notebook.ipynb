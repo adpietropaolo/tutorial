{
 "cells": [
  {
   "cell_type": "markdown",
   "metadata": {},
   "source": [
    "# Dihedral Angle Calculation using PLUMED in a Jupyter Notebook"
   ]
  },
  {
   "cell_type": "code",
   "execution_count": 1,
   "metadata": {},
   "outputs": [],
   "source": [
    "# Import necessary libraries\n",
    "import os"
   ]
  },
  {
   "cell_type": "code",
   "execution_count": 2,
   "metadata": {},
   "outputs": [],
   "source": [
    "# Define the PLUMED input file content for calculating the dihedral angle\n",
    "plumed_input = \"\"\"\n",
    "# PLUMED input file to calculate a dihedral angle\n",
    "# Define the atoms that form the dihedral angle (change these indices according to your molecule)\n",
    "dihedral: TORSION ATOMS=1,2,3,4\n",
    "\n",
    "# Print the dihedral angle to an output file\n",
    "PRINT ARG=dihedral FILE=dihedral.dat\n",
    "\"\"\"\n",
    "\n",
    "# Write the PLUMED input file to disk\n",
    "with open(\"plumed.dat\", \"w\") as file:\n",
    "    file.write(plumed_input)"
   ]
  },
  {
   "cell_type": "code",
   "execution_count": 3,
   "metadata": {},
   "outputs": [],
   "source": [
    "# Now, prepare the command to run the PLUMED calculation\n",
    "# Change 'trajectory_file.dcd' and 'topology_file.pdb' to your specific files\n",
    "# This example assumes the use of a DCD trajectory and a PDB topology\n",
    "\n",
    "# PLUMED command to calculate the dihedral in each electronic state\n",
    "plumed_command = \"plumed driver --plumed plumed.dat --mf_dcd trajectory_file.dcd --mf_pdb topology_file.pdb\"\n",
    "\n",
    "# Run the PLUMED command\n",
    "os.system(plumed_command)"
   ]
  },
  {
   "cell_type": "code",
   "execution_count": 4,
   "metadata": {},
   "outputs": [],
   "source": [
    "# After running PLUMED, let's read and plot the results\n",
    "import pandas as pd\n",
    "import matplotlib.pyplot as plt\n",
    "\n",
    "# Read the output data from the PLUMED calculation\n",
    "data = pd.read_csv(\"dihedral.dat\", delim_whitespace=True, comment=\"#\")\n",
    "\n",
    "# Plot the dihedral angle over time\n",
    "plt.figure(figsize=(10, 6))\n",
    "plt.plot(data['time'], data['dihedral'])\n",
    "plt.xlabel('Time')\n",
    "plt.ylabel('Dihedral Angle (degrees)')\n",
    "plt.title('Dihedral Angle vs. Time')\n",
    "plt.grid(True)\n",
    "plt.show()"
   ]
  }
 ],
 "metadata": {
  "kernelspec": {
   "display_name": "Python 3",
   "language": "python",
   "name": "python3"
  },
  "language_info": {
   "codemirror_mode": {
    "name": "ipython",
    "version": 3
   },
   "file_extension": ".py",
   "mimetype": "text/x-python",
   "name": "python",
   "nbconvert_exporter": "python",
   "version": "3.8.10"
  }
 },
 "nbformat": 4,
 "nbformat_minor": 5
}
