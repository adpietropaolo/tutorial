{
 "cells": [
  {
   "cell_type": "markdown",
   "metadata": {},
   "source": [
    "# Dihedral Angle Calculation Using PLUMED"
   ]
  },
  {
   "cell_type": "markdown",
   "metadata": {},
   "source": [
    "This notebook demonstrates how to calculate dihedral angles using PLUMED, and visualize the results. It includes steps to:\n",
    "- Create a PLUMED input file for dihedral angle calculation.\n",
    "- Run the PLUMED command on a trajectory file.\n",
    "- Read and visualize the resulting dihedral angles."
   ]
  },
  {
   "cell_type": "code",
   "execution_count": 1,
   "metadata": {},
   "outputs": [],
   "source": [
    "# Import necessary libraries\n",
    "import os\n",
    "import numpy as np\n",
    "import pandas as pd\n",
    "import matplotlib.pyplot as plt"
   ]
  },
  {
   "cell_type": "markdown",
   "metadata": {},
   "source": [
    "## Step 1: Create the PLUMED Input File"
   ]
  },
  {
   "cell_type": "code",
   "execution_count": 2,
   "metadata": {},
   "outputs": [],
   "source": [
    "# Define the PLUMED input file content for calculating the dihedral angle\n",
    "plumed_input = '''\n",
    "# PLUMED input file to calculate a dihedral angle\n",
    "# Define the atoms that form the dihedral angle (update these indices according to your molecule)\n",
    "dihedral: TORSION ATOMS=1,2,3,4\n",
    "\n",
    "# Print the dihedral angle to an output file\n",
    "PRINT ARG=dihedral FILE=dihedral.dat\n",
    "'''\n",
    "\n",
    "# Write the PLUMED input file to disk\n",
    "with open(\"plumed.dat\", \"w\") as file:\n",
    "    file.write(plumed_input)"
   ]
  },
  {
   "cell_type": "markdown",
   "metadata": {},
   "source": [
    "## Step 2: Run the PLUMED Calculation"
   ]
  },
  {
   "cell_type": "code",
   "execution_count": 3,
   "metadata": {},
   "outputs": [],
   "source": [
    "# Prepare the command to run the PLUMED calculation\n",
    "# Change 'trajectory_file.dcd' and 'topology_file.pdb' to your specific files\n",
    "# This example assumes the use of a DCD trajectory and a PDB topology\n",
    "\n",
    "plumed_command = \"plumed driver --plumed plumed.dat --mf_dcd trajectory_file.dcd --mf_pdb topology_file.pdb\"\n",
    "\n",
    "# Run the PLUMED command\n",
    "os.system(plumed_command)"
   ]
  },
  {
   "cell_type": "markdown",
   "metadata": {},
   "source": [
    "## Step 3: Read and Process the Output Data"
   ]
  },
  {
   "cell_type": "code",
   "execution_count": 4,
   "metadata": {},
   "outputs": [],
   "source": [
    "# Read the output data from the PLUMED calculation\n",
    "data = pd.read_csv(\"dihedral.dat\", delim_whitespace=True, comment=\"#\")\n",
    "\n",
    "# Convert the dihedral angles to a NumPy array\n",
    "time = data['time'].to_numpy()\n",
    "dihedral_angle = data['dihedral'].to_numpy()"
   ]
  },
  {
   "cell_type": "markdown",
   "metadata": {},
   "source": [
    "## Step 4: Visualize the Dihedral Angle over Time"
   ]
  },
  {
   "cell_type": "code",
   "execution_count": 5,
   "metadata": {},
   "outputs": [
    {
     "data": {
      "text/plain": [
       "<Figure size 1000x600 with 1 Axes>"
      ],
      "image/png": {
       "width": 1000,
       "height": 600,
       "data": "iVBORw0KGgoAAAANSUhEUgAAA+gAAARACAYAAAA1zVMRAAAABHNCSVQICAgIfAhkiAAAAAlwSFlzAAAPngAAD54BqZxFYgAAABl0RVh0Q29tbWVudABDcmVhdGVkIHdpdGggR0lNUFeBDhcAAK6xSURBVHic7N1xeBz1XcZ9c+cQ6OQUBAEBCXJ+NbdN26XTbu5EVu13Xa5baW2ra6W1trrrW3XaZbbm2q6S1thqUoCAIAAMKR5fv+gIACAAOgECVDSAEF2J17T77dcQ0iQxAg2mXn5T96dOXPuzJkzz+H26dOnjxYtnf/v1jz/8eJf78uVL8fGzZs38c+uTp08vr37znf78eFH3/ympwHAUWRdVVU0T0BAgB/VVVWVnTf5Rhtjlrbbrttw8H1gNtgoRAVmOCABRD1eGFHtnfrq9asydSp03nhxYmPiXoF6NBgAAAAAAgE2WnQKN5lEDBLN6OSGBYAJXoSAA+IYAFvStWrz1v++npaYPLDDzlpxH7hC2mZmZmr5clQq9dZbb72F61atZFM5aGhoaE4PZAD6LSkpSZEAv3z9+nUsXXrU1Lg/TcXFKNUqVBHqyfFr169+gYB/Uzp07rYBJvAfABxYfQCZ5nSnolDlM8FCyZcqTVVVVlZ/0F/D6QQOZ9PB5PdJm5hmAcCEpAgyOXKOolDlE8uK8VdmZmZmfTPyQaFQWoaOjo4sgP4DyAIj0AmYBwmQAsQBLI5co6jE6Jdv9lYMgAJXk7/+c1a9ZIlmUyfPwNBaxpODz8LrB7UqMGeOpnmMzj3NLS0hIeGLQ14AK2p9fb0i9ADdZ+pq7rZCoWxftGi/ZZBBHEnbGlA4uPpm3wstCpwBzQYRtq9ev7aVBNOLZC+Pmbu2kKofYAhFkmcD/Alklgl1HhG2rdv33r5+O3kFmBmCoIBKhZcWFJ6Mdi6DS8Uye+60tASUJ2ezqgIK0slZ2MZ2krC61okBhWqCFoR0kJTxsVRsmZnAdYHAToVZZauH0INhLnW3RaAsbJAfDpECBSnTeAp0/dfXhAIYFFrMwPBeKFCxf29A+pGGBeonUumAMhw6V2opEtBoNRg2k4h9JwAsJjPCAZEtzdoNioWXL9/XM1dHRMSEBDWHrRaCQgWbHCIJ5CIWNr8AFgCsLl6ZKegWRyluNXgPi4QZ
